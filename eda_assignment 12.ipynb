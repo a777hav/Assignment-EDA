{
 "cells": [
  {
   "cell_type": "code",
   "execution_count": null,
   "id": "aa3e2892",
   "metadata": {},
   "outputs": [],
   "source": [
    "import pandas as pd\n",
    "import matplotlib.pyplot as plt\n",
    "import seaborn as sns\n",
    "\n",
    "bike_df = pd.read_csv('BIKE DETAILS.csv')\n",
    "car_df = pd.read_csv('Car Sale.csv')\n",
    "amazon_df = pd.read_csv('amazon.csv')\n",
    "spotify_df = pd.read_csv('spotify.csv')\n"
   ]
  },
  {
   "cell_type": "markdown",
   "id": "5e08f5f4",
   "metadata": {},
   "source": [
    "#EDA - 1\n"
   ]
  },
  {
   "cell_type": "code",
   "execution_count": null,
   "id": "e79dcb13",
   "metadata": {},
   "outputs": [],
   "source": [
    "# What is the range of selling prices in the dataset\n",
    "bike_df['selling_price'].min(), bike_df['selling_price'].max()"
   ]
  },
  {
   "cell_type": "code",
   "execution_count": null,
   "id": "2b09b1d4",
   "metadata": {},
   "outputs": [],
   "source": [
    "# What is the median selling price for bikes in the dataset\n",
    "bike_df['selling_price'].median()"
   ]
  },
  {
   "cell_type": "code",
   "execution_count": null,
   "id": "1803956b",
   "metadata": {},
   "outputs": [],
   "source": [
    "# What is the most common seller type\n",
    "bike_df['seller_type'].mode()[0]"
   ]
  },
  {
   "cell_type": "code",
   "execution_count": null,
   "id": "e4dd6aa2",
   "metadata": {},
   "outputs": [],
   "source": [
    "# How many bikes have driven more than 50,000 kilometers\n",
    "bike_df[bike_df['km_driven'] > 50000].shape[0]"
   ]
  },
  {
   "cell_type": "code",
   "execution_count": null,
   "id": "38b27e37",
   "metadata": {},
   "outputs": [],
   "source": [
    "# What is the average km_driven value for each ownership type\n",
    "bike_df.groupby('owner')['km_driven'].mean()"
   ]
  },
  {
   "cell_type": "code",
   "execution_count": null,
   "id": "a96843c6",
   "metadata": {},
   "outputs": [],
   "source": [
    "# What proportion of bikes are from the year 2015 or older\n",
    "bike_df[bike_df['year'] <= 2015].shape[0] / bike_df.shape[0]"
   ]
  },
  {
   "cell_type": "code",
   "execution_count": null,
   "id": "346936bf",
   "metadata": {},
   "outputs": [],
   "source": [
    "# What is the trend of missing values across the dataset\n",
    "bike_df.isnull().sum()"
   ]
  },
  {
   "cell_type": "code",
   "execution_count": null,
   "id": "64bc4ffd",
   "metadata": {},
   "outputs": [],
   "source": [
    "# What is the highest ex_showroom_price recorded, and for which bike\n",
    "bike_df.loc[bike_df['ex_showroom_price'].idxmax(), ['name', 'ex_showroom_price']]"
   ]
  },
  {
   "cell_type": "code",
   "execution_count": null,
   "id": "3a51f214",
   "metadata": {},
   "outputs": [],
   "source": [
    "# What is the total number of bikes listed by each seller type\n",
    "bike_df['seller_type'].value_counts()"
   ]
  },
  {
   "cell_type": "code",
   "execution_count": null,
   "id": "1eb44ada",
   "metadata": {},
   "outputs": [],
   "source": [
    "# What is the relationship between selling_price and km_driven for first-owner bikes\n",
    "sns.scatterplot(data=bike_df[bike_df['owner'] == '1st owner'], x='km_driven', y='selling_price')\n",
    "plt.show()"
   ]
  },
  {
   "cell_type": "code",
   "execution_count": null,
   "id": "480f8623",
   "metadata": {},
   "outputs": [],
   "source": [
    "# Identify and remove outliers in the km_driven column using the IQR method\n",
    "Q1 = bike_df['km_driven'].quantile(0.25)\n",
    "Q3 = bike_df['km_driven'].quantile(0.75)\n",
    "IQR = Q3 - Q1\n",
    "bike_df_no_outliers = bike_df[~((bike_df['km_driven'] < (Q1 - 1.5 * IQR)) | (bike_df['km_driven'] > (Q3 + 1.5 * IQR)))]"
   ]
  },
  {
   "cell_type": "code",
   "execution_count": null,
   "id": "daecc901",
   "metadata": {},
   "outputs": [],
   "source": [
    "# Perform a bivariate analysis to visualize the relationship between year and selling_price\n",
    "sns.scatterplot(data=bike_df, x='year', y='selling_price')\n",
    "plt.show()"
   ]
  },
  {
   "cell_type": "code",
   "execution_count": null,
   "id": "e9140c12",
   "metadata": {},
   "outputs": [],
   "source": [
    "# What is the average depreciation in selling price based on the bike's age (current year - manufacturing year)\n",
    "current_year = 2025\n",
    "bike_df['depreciation'] = bike_df['ex_showroom_price'] - bike_df['selling_price']\n",
    "bike_df['age'] = current_year - bike_df['year']\n",
    "bike_df['depreciation_per_year'] = bike_df['depreciation'] / bike_df['age']\n",
    "bike_df.groupby('year')['depreciation_per_year'].mean()"
   ]
  },
  {
   "cell_type": "code",
   "execution_count": null,
   "id": "15803082",
   "metadata": {},
   "outputs": [],
   "source": [
    "# Which bike names are priced significantly above the average price for their manufacturing year\n",
    "avg_price_by_year = bike_df.groupby('year')['selling_price'].transform('mean')\n",
    "bike_df[bike_df['selling_price'] > avg_price_by_year]['name'].unique()"
   ]
  },
  {
   "cell_type": "code",
   "execution_count": null,
   "id": "8aa5f329",
   "metadata": {},
   "outputs": [],
   "source": [
    "# Develop a correlation matrix for numeric columns and visualize it using a heatmap.\n",
    "corr = bike_df.select_dtypes(include='number').corr()\n",
    "sns.heatmap(corr, annot=True)\n",
    "plt.show()"
   ]
  },
  {
   "cell_type": "markdown",
   "id": "262731e8",
   "metadata": {},
   "source": [
    "#EDA - 2"
   ]
  },
  {
   "cell_type": "code",
   "execution_count": null,
   "id": "ee0109aa",
   "metadata": {},
   "outputs": [],
   "source": [
    "# What is the average selling price of cars for each dealer, and how does it compare across different dealers\n",
    "car_df.groupby('Dealer_Name')['Price ($)'].mean()"
   ]
  },
  {
   "cell_type": "code",
   "execution_count": null,
   "id": "37040db1",
   "metadata": {},
   "outputs": [],
   "source": [
    "# Which car brand (Company) has the highest variation in prices, and what does this tell us about the pricing trends\n",
    "car_df.groupby('Company')['Price ($)'].std().idxmax()"
   ]
  },
  {
   "cell_type": "code",
   "execution_count": null,
   "id": "78f3d9b4",
   "metadata": {},
   "outputs": [],
   "source": [
    "# What is the distribution of car prices for each transmission type, and how do the interquartile ranges compare\n",
    "car_df.boxplot(column='Price ($)', by='Transmission')\n",
    "plt.show()"
   ]
  },
  {
   "cell_type": "code",
   "execution_count": null,
   "id": "a82407cb",
   "metadata": {},
   "outputs": [],
   "source": [
    "# What is the distribution of car prices across different regions\n",
    "car_df.boxplot(column='Price ($)', by='Dealer_Region')\n",
    "plt.show()"
   ]
  },
  {
   "cell_type": "code",
   "execution_count": null,
   "id": "8b58bef6",
   "metadata": {},
   "outputs": [],
   "source": [
    "# What is the distribution of cars based on body styles\n",
    "car_df['Body Style'].value_counts()"
   ]
  },
  {
   "cell_type": "code",
   "execution_count": null,
   "id": "6f0310dd",
   "metadata": {},
   "outputs": [],
   "source": [
    "# How does the average selling price of cars vary by customer gender and annual income\n",
    "car_df.groupby(['Gender', pd.cut(car_df['Annual Income'], bins=3)])['Price ($)'].mean()"
   ]
  },
  {
   "cell_type": "code",
   "execution_count": null,
   "id": "8fd0149a",
   "metadata": {},
   "outputs": [],
   "source": [
    "# What is the distribution of car prices by region, and how does the number of cars sold vary by region\n",
    "car_df.groupby('Dealer_Region')['Price ($)'].agg(['mean', 'count'])"
   ]
  },
  {
   "cell_type": "code",
   "execution_count": null,
   "id": "f8c97c00",
   "metadata": {},
   "outputs": [],
   "source": [
    "# How does the average car price differ between cars with different engine sizes\n",
    "car_df.groupby('Engine')['Price ($)'].mean()"
   ]
  },
  {
   "cell_type": "code",
   "execution_count": null,
   "id": "88f150c2",
   "metadata": {},
   "outputs": [],
   "source": [
    "# How do car prices vary based on the customer’s annual income bracket\n",
    "car_df.groupby(pd.cut(car_df['Annual Income'], bins=4))['Price ($)'].agg(['mean', 'count'])"
   ]
  },
  {
   "cell_type": "code",
   "execution_count": null,
   "id": "9f10544e",
   "metadata": {},
   "outputs": [],
   "source": [
    "# What are the top 5 car models with the highest number of sales, and how does their price distribution look\n",
    "top5_models = car_df['Model'].value_counts().nlargest(5).index\n",
    "sns.boxplot(data=car_df[car_df['Model'].isin(top5_models)], x='Model', y='Price ($)')\n",
    "plt.show()"
   ]
  },
  {
   "cell_type": "code",
   "execution_count": null,
   "id": "7e48b489",
   "metadata": {},
   "outputs": [],
   "source": [
    "# How does car price vary with engine size across different car colors, and which colors have the highest price variation\n",
    "car_df.groupby('Color')['Price ($)'].std().nlargest(5)"
   ]
  },
  {
   "cell_type": "code",
   "execution_count": null,
   "id": "614836f8",
   "metadata": {},
   "outputs": [],
   "source": [
    "# Is there any seasonal trend in car sales based on the date of sale\n",
    "car_df['Date'] = pd.to_datetime(car_df['Date'])\n",
    "car_df['Month'] = car_df['Date'].dt.month\n",
    "car_df.groupby('Month')['Price ($)'].count()"
   ]
  },
  {
   "cell_type": "code",
   "execution_count": null,
   "id": "53950790",
   "metadata": {},
   "outputs": [],
   "source": [
    "# How does the car price distribution change when considering different combinations of body style and transmission type\n",
    "sns.boxplot(data=car_df, x='Body Style', y='Price ($)', hue='Transmission')\n",
    "plt.show()"
   ]
  },
  {
   "cell_type": "code",
   "execution_count": null,
   "id": "8bf00cdb",
   "metadata": {},
   "outputs": [],
   "source": [
    "# What is the correlation between car price, engine size, and annual income of customers, and how do these features interact\n",
    "corr = car_df[['Price ($)', 'Annual Income']].corr()\n",
    "sns.heatmap(corr, annot=True)\n",
    "plt.show()"
   ]
  },
  {
   "cell_type": "code",
   "execution_count": null,
   "id": "fa1941a3",
   "metadata": {},
   "outputs": [],
   "source": [
    "# How does the average car price vary across different car models and engine types?\n",
    "car_df.groupby(['Model', 'Engine'])['Price ($)'].mean()"
   ]
  },
  {
   "cell_type": "markdown",
   "id": "c635b55e",
   "metadata": {},
   "source": [
    "#EDA - 3"
   ]
  },
  {
   "cell_type": "code",
   "execution_count": null,
   "id": "f730175e",
   "metadata": {},
   "outputs": [],
   "source": [
    "# What is the average rating for each product category\n",
    "amazon_df.groupby('category')['rating'].mean()"
   ]
  },
  {
   "cell_type": "code",
   "execution_count": null,
   "id": "dc562b86",
   "metadata": {},
   "outputs": [],
   "source": [
    "# What are the top rating_count products by category\n",
    "amazon_df.sort_values('rating_count', ascending=False).groupby('category').head(1)"
   ]
  },
  {
   "cell_type": "code",
   "execution_count": null,
   "id": "e38bc0a4",
   "metadata": {},
   "outputs": [],
   "source": [
    "# What is the distribution of discounted prices vs. actual prices\n",
    "sns.histplot(amazon_df['discounted_price'], label='Discounted', kde=True)\n",
    "sns.histplot(amazon_df['actual_price'], label='Actual', kde=True)\n",
    "plt.legend()\n",
    "plt.show()"
   ]
  },
  {
   "cell_type": "code",
   "execution_count": null,
   "id": "d3dadb51",
   "metadata": {},
   "outputs": [],
   "source": [
    "# How does the average discount percentage vary across categories\n",
    "amazon_df.groupby('category')['discount_percentage'].mean()"
   ]
  },
  {
   "cell_type": "code",
   "execution_count": null,
   "id": "851aa199",
   "metadata": {},
   "outputs": [],
   "source": [
    "# What are the most popular product names\n",
    "amazon_df['product_name'].value_counts().head(5)"
   ]
  },
  {
   "cell_type": "code",
   "execution_count": null,
   "id": "50920be3",
   "metadata": {},
   "outputs": [],
   "source": [
    "# What are the most popular product keywords\n",
    "# This requires text processing; simple approach: split product names and count\n",
    "from collections import Counter\n",
    "keywords = Counter(\" \".join(amazon_df['product_name']).split())\n",
    "keywords.most_common(5)"
   ]
  },
  {
   "cell_type": "code",
   "execution_count": null,
   "id": "40f53629",
   "metadata": {},
   "outputs": [],
   "source": [
    "# What are the most popular product reviews\n",
    "amazon_df['review_title'].value_counts().head(5)"
   ]
  },
  {
   "cell_type": "code",
   "execution_count": null,
   "id": "71ca41fe",
   "metadata": {},
   "outputs": [],
   "source": [
    "# What is the correlation between discounted_price and rating\n",
    "amazon_df[['discounted_price', 'rating']].corr()"
   ]
  },
  {
   "cell_type": "code",
   "execution_count": null,
   "id": "7dcdcec0",
   "metadata": {},
   "outputs": [],
   "source": [
    "# What are the Top 5 categories based on the highest ratings\n",
    "amazon_df.groupby('category')['rating'].mean().nlargest(5)"
   ]
  },
  {
   "cell_type": "code",
   "execution_count": null,
   "id": "a23a4a29",
   "metadata": {},
   "outputs": [],
   "source": [
    "# Identify any potential areas for improvement or optimization based on the data analysis.\n",
    "# Review the summary statistics\n",
    "amazon_df.describe(include='all')"
   ]
  },
  {
   "cell_type": "markdown",
   "id": "ac4267e2",
   "metadata": {},
   "source": [
    "#EDA - 4"
   ]
  },
  {
   "cell_type": "code",
   "execution_count": null,
   "id": "84f32503",
   "metadata": {},
   "outputs": [],
   "source": [
    "# Read the dataframe, check null value if present then do the needful, check duplicate row , if present then do the needful\n",
    "spotify_df.dropna(inplace=True)\n",
    "spotify_df.drop_duplicates(inplace=True)\n",
    "spotify_df"
   ]
  },
  {
   "cell_type": "code",
   "execution_count": null,
   "id": "db93b336",
   "metadata": {},
   "outputs": [],
   "source": [
    "# What is the distribution of popularity among the tracks in the dataset? Visualize it using a histogram\n",
    "sns.histplot(spotify_df['Popularity'])\n",
    "plt.show()"
   ]
  },
  {
   "cell_type": "code",
   "execution_count": null,
   "id": "5b52a2d9",
   "metadata": {},
   "outputs": [],
   "source": [
    "# Is there any relationship between the popularity and the duration of tracks? Explore this using a scatter plot\n",
    "sns.scatterplot(data=spotify_df, x='Duration (ms)', y='Popularity')\n",
    "plt.show()"
   ]
  },
  {
   "cell_type": "code",
   "execution_count": null,
   "id": "1791a032",
   "metadata": {},
   "outputs": [],
   "source": [
    "# Which artist has the highest number of tracks in the dataset? Display the count of tracks for each artist using a countplot\n",
    "sns.countplot(data=spotify_df, x='Artist')\n",
    "plt.show()"
   ]
  },
  {
   "cell_type": "code",
   "execution_count": null,
   "id": "5e67a7fa",
   "metadata": {},
   "outputs": [],
   "source": [
    "# What are the top 5 least popular tracks in the dataset? Provide the artist name and track name for each\n",
    "spotify_df.nsmallest(5, 'Popularity')[['Artist', 'Track Name']]"
   ]
  },
  {
   "cell_type": "code",
   "execution_count": null,
   "id": "5da69323",
   "metadata": {},
   "outputs": [],
   "source": [
    "# Among the top 5 most popular artists, which artist has the highest popularity on average? Calculate and display the average popularity for each artist\n",
    "top5_artists = spotify_df['Artist'].value_counts().nlargest(5).index\n",
    "spotify_df[spotify_df['Artist'].isin(top5_artists)].groupby('Artist')['Popularity'].mean()"
   ]
  },
  {
   "cell_type": "code",
   "execution_count": null,
   "id": "526783e1",
   "metadata": {},
   "outputs": [],
   "source": [
    "# For the top 5 most popular artists, what are their most popular tracks? List the track name for each artist\n",
    "popular_tracks = spotify_df.loc[spotify_df.groupby('Artist')['Popularity'].idxmax()]\n",
    "popular_tracks[popular_tracks['Artist'].isin(top5_artists)][['Artist', 'Track Name']]"
   ]
  },
  {
   "cell_type": "code",
   "execution_count": null,
   "id": "5a3a56b9",
   "metadata": {},
   "outputs": [],
   "source": [
    "# Visualize relationships between multiple numerical variables simultaneously using a pair plot\n",
    "sns.pairplot(spotify_df[['Popularity', 'Duration (ms)']])\n",
    "plt.show()"
   ]
  },
  {
   "cell_type": "code",
   "execution_count": null,
   "id": "f43e518b",
   "metadata": {},
   "outputs": [],
   "source": [
    "# Does the duration of tracks vary significantly across different artists? Explore this visually using a box plot or violin plot\n",
    "sns.boxplot(data=spotify_df, x='Artist', y='Duration (ms)')\n",
    "plt.show()"
   ]
  },
  {
   "cell_type": "code",
   "execution_count": null,
   "id": "2f0f8352",
   "metadata": {},
   "outputs": [],
   "source": [
    "# How does the distribution of track popularity vary for different artists? Visualize this using a swarm plot or a violin plot\n",
    "sns.violinplot(data=spotify_df, x='Artist', y='Popularity')\n",
    "plt.show()"
   ]
  }
 ],
 "metadata": {
  "language_info": {
   "name": "python"
  }
 },
 "nbformat": 4,
 "nbformat_minor": 5
}
